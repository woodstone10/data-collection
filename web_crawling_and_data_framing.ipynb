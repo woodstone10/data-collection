{
  "nbformat": 4,
  "nbformat_minor": 0,
  "metadata": {
    "colab": {
      "name": "web crawling and data framing.ipynb",
      "provenance": [],
      "collapsed_sections": [],
      "authorship_tag": "ABX9TyNn6MpSdqAjKg3EypdQByAh",
      "include_colab_link": true
    },
    "kernelspec": {
      "name": "python3",
      "display_name": "Python 3"
    },
    "language_info": {
      "name": "python"
    }
  },
  "cells": [
    {
      "cell_type": "markdown",
      "metadata": {
        "id": "view-in-github",
        "colab_type": "text"
      },
      "source": [
        "<a href=\"https://colab.research.google.com/github/woodstone10/data-collection/blob/main/web_crawling_and_data_framing.ipynb\" target=\"_parent\"><img src=\"https://colab.research.google.com/assets/colab-badge.svg\" alt=\"Open In Colab\"/></a>"
      ]
    },
    {
      "cell_type": "markdown",
      "metadata": {
        "id": "nkA09LlXcWJY"
      },
      "source": [
        "# web crawling and data framing with Pandas\n",
        "\n"
      ]
    },
    {
      "cell_type": "code",
      "metadata": {
        "id": "iIC7P5OlJnf5"
      },
      "source": [
        "import requests\n",
        "from bs4 import BeautifulSoup"
      ],
      "execution_count": null,
      "outputs": []
    },
    {
      "cell_type": "code",
      "metadata": {
        "id": "ZJsH-UYKJxq0"
      },
      "source": [
        "def crawl(url):\n",
        "    try:\n",
        "        rData = requests.get(url)  # web crawling\n",
        "        print(rData)  # expect Response [200]\n",
        "        return rData.content\n",
        "    except:\n",
        "        print(\"<Response Error>\")\n",
        "        return 0\n",
        "\n",
        "def parse(str):\n",
        "    bsData = BeautifulSoup(str, \"html.parser\")  \n",
        "    name = bsData.find(\"h1\", {\"class\": \"KY7mAb\"})  # < h1 class =\"KY7mAb\" > Company name < / h1 >\n",
        "    price = bsData.find(\"div\", {\"class\": \"YMlKec fxKbKc\"})  # <div class=\"YMlKec fxKbKc\">Price $xx.xx</div>\n",
        "    return {\"name\": name.text, \"price\": price.text}"
      ],
      "execution_count": null,
      "outputs": []
    },
    {
      "cell_type": "code",
      "metadata": {
        "id": "3fEewJmbJ5r4",
        "colab": {
          "base_uri": "https://localhost:8080/"
        },
        "outputId": "36968d63-c417-4851-a545-e8c782f54baf"
      },
      "source": [
        "url = [\"https://www.google.com/finance/quote/VZ:NYSE\",  # Verizon\n",
        "        \"https://www.google.com/finance/quote/QCOM:NASDAQ\",  # Qualcomm\n",
        "        \"https://www.error\", # wrong page for error handling test purpose\n",
        "        \"https://www.google.com/finance/quote/AAPL:NASDAQ\",\n",
        "        \"https://www.google.com/finance/quote/AMZN:NASDAQ\",\n",
        "        \"https://www.google.com/finance/quote/TMUS:NASDAQ\",\n",
        "        \"https://www.google.com/finance/quote/TSLA:NASDAQ\",\n",
        "        ]\n",
        "\n",
        "data = []\n",
        "for i in range(len(url)):\n",
        "    str = crawl(url[i])\n",
        "    if str == 0:\n",
        "        continue\n",
        "    txt = parse(str)\n",
        "    name = txt.get(\"name\")\n",
        "    price = txt.get(\"price\")\n",
        "    print(name, \":\", price)\n",
        "    data.append([name, float(price.split('$')[1].replace(',',''))]) #fix convert string to float due to comma"
      ],
      "execution_count": null,
      "outputs": [
        {
          "output_type": "stream",
          "text": [
            "<Response [200]>\n",
            "Verizon Communications Inc. : $58.39\n",
            "<Response [200]>\n",
            "QUALCOMM, Inc. : $135.25\n",
            "<Response Error>\n",
            "<Response [200]>\n",
            "Apple Inc : $134.94\n",
            "<Response [200]>\n",
            "Amazon.com, Inc. : $3,372.01\n",
            "<Response [200]>\n",
            "T-Mobile Us Inc : $131.99\n",
            "<Response [200]>\n",
            "Tesla Inc : $714.63\n"
          ],
          "name": "stdout"
        }
      ]
    },
    {
      "cell_type": "markdown",
      "metadata": {
        "id": "PxnPWZoldoxx"
      },
      "source": [
        "## Data framing with Pandas"
      ]
    },
    {
      "cell_type": "code",
      "metadata": {
        "colab": {
          "base_uri": "https://localhost:8080/",
          "height": 235
        },
        "id": "6CMFeBi-KFME",
        "outputId": "f2092695-e9aa-440a-8a08-e44450747010"
      },
      "source": [
        "import pandas as pd\n",
        "df = pd.DataFrame(data, columns = ['Company Name','Stock Price']) #Pandas data frame\n",
        "df"
      ],
      "execution_count": null,
      "outputs": [
        {
          "output_type": "execute_result",
          "data": {
            "text/html": [
              "<div>\n",
              "<style scoped>\n",
              "    .dataframe tbody tr th:only-of-type {\n",
              "        vertical-align: middle;\n",
              "    }\n",
              "\n",
              "    .dataframe tbody tr th {\n",
              "        vertical-align: top;\n",
              "    }\n",
              "\n",
              "    .dataframe thead th {\n",
              "        text-align: right;\n",
              "    }\n",
              "</style>\n",
              "<table border=\"1\" class=\"dataframe\">\n",
              "  <thead>\n",
              "    <tr style=\"text-align: right;\">\n",
              "      <th></th>\n",
              "      <th>Company Name</th>\n",
              "      <th>Stock Price</th>\n",
              "    </tr>\n",
              "  </thead>\n",
              "  <tbody>\n",
              "    <tr>\n",
              "      <th>0</th>\n",
              "      <td>Verizon Communications Inc.</td>\n",
              "      <td>58.39</td>\n",
              "    </tr>\n",
              "    <tr>\n",
              "      <th>1</th>\n",
              "      <td>QUALCOMM, Inc.</td>\n",
              "      <td>135.25</td>\n",
              "    </tr>\n",
              "    <tr>\n",
              "      <th>2</th>\n",
              "      <td>Apple Inc</td>\n",
              "      <td>134.94</td>\n",
              "    </tr>\n",
              "    <tr>\n",
              "      <th>3</th>\n",
              "      <td>Amazon.com, Inc.</td>\n",
              "      <td>3372.01</td>\n",
              "    </tr>\n",
              "    <tr>\n",
              "      <th>4</th>\n",
              "      <td>T-Mobile Us Inc</td>\n",
              "      <td>131.99</td>\n",
              "    </tr>\n",
              "    <tr>\n",
              "      <th>5</th>\n",
              "      <td>Tesla Inc</td>\n",
              "      <td>714.63</td>\n",
              "    </tr>\n",
              "  </tbody>\n",
              "</table>\n",
              "</div>"
            ],
            "text/plain": [
              "                  Company Name  Stock Price\n",
              "0  Verizon Communications Inc.        58.39\n",
              "1               QUALCOMM, Inc.       135.25\n",
              "2                    Apple Inc       134.94\n",
              "3             Amazon.com, Inc.      3372.01\n",
              "4              T-Mobile Us Inc       131.99\n",
              "5                    Tesla Inc       714.63"
            ]
          },
          "metadata": {
            "tags": []
          },
          "execution_count": 5
        }
      ]
    },
    {
      "cell_type": "code",
      "metadata": {
        "id": "IJDCbfrYeFnR"
      },
      "source": [
        "df.to_excel(\"output.xlsx\", sheet_name='sheet1') #Save to Excel"
      ],
      "execution_count": null,
      "outputs": []
    },
    {
      "cell_type": "markdown",
      "metadata": {
        "id": "fxnhtqW7fgnn"
      },
      "source": [
        "### extract"
      ]
    },
    {
      "cell_type": "code",
      "metadata": {
        "colab": {
          "base_uri": "https://localhost:8080/",
          "height": 80
        },
        "id": "nHndLuFneZ1Y",
        "outputId": "53879ca5-1d63-4ccb-a9ec-5217d71bd1f9"
      },
      "source": [
        "def filter_keyword(data, keyword):\n",
        "  result = data[data['Company Name'].str.contains(keyword)] \n",
        "  return result\n",
        "\n",
        "result = filter_keyword(df, \"Verizon\")\n",
        "result"
      ],
      "execution_count": null,
      "outputs": [
        {
          "output_type": "execute_result",
          "data": {
            "text/html": [
              "<div>\n",
              "<style scoped>\n",
              "    .dataframe tbody tr th:only-of-type {\n",
              "        vertical-align: middle;\n",
              "    }\n",
              "\n",
              "    .dataframe tbody tr th {\n",
              "        vertical-align: top;\n",
              "    }\n",
              "\n",
              "    .dataframe thead th {\n",
              "        text-align: right;\n",
              "    }\n",
              "</style>\n",
              "<table border=\"1\" class=\"dataframe\">\n",
              "  <thead>\n",
              "    <tr style=\"text-align: right;\">\n",
              "      <th></th>\n",
              "      <th>Company Name</th>\n",
              "      <th>Stock Price</th>\n",
              "    </tr>\n",
              "  </thead>\n",
              "  <tbody>\n",
              "    <tr>\n",
              "      <th>0</th>\n",
              "      <td>Verizon Communications Inc.</td>\n",
              "      <td>58.39</td>\n",
              "    </tr>\n",
              "  </tbody>\n",
              "</table>\n",
              "</div>"
            ],
            "text/plain": [
              "                  Company Name  Stock Price\n",
              "0  Verizon Communications Inc.        58.39"
            ]
          },
          "metadata": {
            "tags": []
          },
          "execution_count": 15
        }
      ]
    },
    {
      "cell_type": "markdown",
      "metadata": {
        "id": "kGdwTLnWfiYd"
      },
      "source": [
        "### condition"
      ]
    },
    {
      "cell_type": "code",
      "metadata": {
        "colab": {
          "base_uri": "https://localhost:8080/",
          "height": 111
        },
        "id": "koiCavutKMkt",
        "outputId": "8cd4e261-0d4a-4a55-83a4-1291acefdfda"
      },
      "source": [
        "def filter_range(data, range):\n",
        "    result = data[data['Stock Price']>range] \n",
        "    return result\n",
        "\n",
        "result = filter_range(df, 200) #>200 dollar\n",
        "result"
      ],
      "execution_count": null,
      "outputs": [
        {
          "output_type": "execute_result",
          "data": {
            "text/html": [
              "<div>\n",
              "<style scoped>\n",
              "    .dataframe tbody tr th:only-of-type {\n",
              "        vertical-align: middle;\n",
              "    }\n",
              "\n",
              "    .dataframe tbody tr th {\n",
              "        vertical-align: top;\n",
              "    }\n",
              "\n",
              "    .dataframe thead th {\n",
              "        text-align: right;\n",
              "    }\n",
              "</style>\n",
              "<table border=\"1\" class=\"dataframe\">\n",
              "  <thead>\n",
              "    <tr style=\"text-align: right;\">\n",
              "      <th></th>\n",
              "      <th>Company Name</th>\n",
              "      <th>Stock Price</th>\n",
              "    </tr>\n",
              "  </thead>\n",
              "  <tbody>\n",
              "    <tr>\n",
              "      <th>3</th>\n",
              "      <td>Amazon.com, Inc.</td>\n",
              "      <td>3372.01</td>\n",
              "    </tr>\n",
              "    <tr>\n",
              "      <th>5</th>\n",
              "      <td>Tesla Inc</td>\n",
              "      <td>714.63</td>\n",
              "    </tr>\n",
              "  </tbody>\n",
              "</table>\n",
              "</div>"
            ],
            "text/plain": [
              "       Company Name  Stock Price\n",
              "3  Amazon.com, Inc.      3372.01\n",
              "5         Tesla Inc       714.63"
            ]
          },
          "metadata": {
            "tags": []
          },
          "execution_count": 14
        }
      ]
    },
    {
      "cell_type": "markdown",
      "metadata": {
        "id": "ozSTGnJSfkyR"
      },
      "source": [
        "### sort"
      ]
    },
    {
      "cell_type": "code",
      "metadata": {
        "colab": {
          "base_uri": "https://localhost:8080/",
          "height": 235
        },
        "id": "Bpt6eigdelvO",
        "outputId": "dd9d904b-711a-4c5d-c25c-732055655f88"
      },
      "source": [
        "df2 = df.sort_values(['Stock Price'], ascending=[0])\n",
        "df2"
      ],
      "execution_count": null,
      "outputs": [
        {
          "output_type": "execute_result",
          "data": {
            "text/html": [
              "<div>\n",
              "<style scoped>\n",
              "    .dataframe tbody tr th:only-of-type {\n",
              "        vertical-align: middle;\n",
              "    }\n",
              "\n",
              "    .dataframe tbody tr th {\n",
              "        vertical-align: top;\n",
              "    }\n",
              "\n",
              "    .dataframe thead th {\n",
              "        text-align: right;\n",
              "    }\n",
              "</style>\n",
              "<table border=\"1\" class=\"dataframe\">\n",
              "  <thead>\n",
              "    <tr style=\"text-align: right;\">\n",
              "      <th></th>\n",
              "      <th>Company Name</th>\n",
              "      <th>Stock Price</th>\n",
              "    </tr>\n",
              "  </thead>\n",
              "  <tbody>\n",
              "    <tr>\n",
              "      <th>3</th>\n",
              "      <td>Amazon.com, Inc.</td>\n",
              "      <td>3372.01</td>\n",
              "    </tr>\n",
              "    <tr>\n",
              "      <th>5</th>\n",
              "      <td>Tesla Inc</td>\n",
              "      <td>714.63</td>\n",
              "    </tr>\n",
              "    <tr>\n",
              "      <th>1</th>\n",
              "      <td>QUALCOMM, Inc.</td>\n",
              "      <td>135.25</td>\n",
              "    </tr>\n",
              "    <tr>\n",
              "      <th>2</th>\n",
              "      <td>Apple Inc</td>\n",
              "      <td>134.94</td>\n",
              "    </tr>\n",
              "    <tr>\n",
              "      <th>4</th>\n",
              "      <td>T-Mobile Us Inc</td>\n",
              "      <td>131.99</td>\n",
              "    </tr>\n",
              "    <tr>\n",
              "      <th>0</th>\n",
              "      <td>Verizon Communications Inc.</td>\n",
              "      <td>58.39</td>\n",
              "    </tr>\n",
              "  </tbody>\n",
              "</table>\n",
              "</div>"
            ],
            "text/plain": [
              "                  Company Name  Stock Price\n",
              "3             Amazon.com, Inc.      3372.01\n",
              "5                    Tesla Inc       714.63\n",
              "1               QUALCOMM, Inc.       135.25\n",
              "2                    Apple Inc       134.94\n",
              "4              T-Mobile Us Inc       131.99\n",
              "0  Verizon Communications Inc.        58.39"
            ]
          },
          "metadata": {
            "tags": []
          },
          "execution_count": 16
        }
      ]
    }
  ]
}